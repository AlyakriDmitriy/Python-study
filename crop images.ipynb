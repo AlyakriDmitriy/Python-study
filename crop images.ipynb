{
 "cells": [
  {
   "cell_type": "code",
   "execution_count": 104,
   "metadata": {},
   "outputs": [],
   "source": [
    "from PIL import Image\n",
    "import os\n",
    "import re"
   ]
  },
  {
   "cell_type": "code",
   "execution_count": 105,
   "metadata": {},
   "outputs": [],
   "source": [
    "dir_from = \"C:/practice/\"\n",
    "dir_to = \"C:/saveimages/\""
   ]
  },
  {
   "cell_type": "code",
   "execution_count": 106,
   "metadata": {},
   "outputs": [],
   "source": [
    "def Crop_image(filename, new_file_direc, block_size):\n",
    "    #the first parameter of the function is filename (string)\n",
    "    #the second parameter of the function is final directory (string)\n",
    "    #the third parameter is what is the size of blocks in pixel to you want to divide the image (int)\n",
    "    im = Image.open(filename)\n",
    "    \n",
    "    block = block_size\n",
    "    width, height = im.size\n",
    "\n",
    "    #number of blocks we need, we divide width by 10, divide height by 10, multiply first result and second\n",
    "    #we need +1 because the might some part be left\n",
    "    w_blocks = (width//block)+1\n",
    "    h_blocks = (height//block)+1\n",
    "    num_blocks = w_blocks*h_blocks\n",
    "    \n",
    "    # creating a folder in final directory\n",
    "    final_direc = re.findall(r\"(.+)\\.\", filename)\n",
    "    path = os.path.join(new_file_direc, final_direc[0])\n",
    "    # Create the directory\n",
    "    os.makedirs(path)\n",
    "    \n",
    "    # I made while loop in while loop , this one is vertical.\n",
    "    top_parameter = 0\n",
    "    bottom_parameter = block\n",
    "    cropped_filename = 1\n",
    "    i_ver = 1\n",
    "    while i_ver < h_blocks:\n",
    "        # I made while loop in horizontal \n",
    "        #i_hor mean \"i_horizontal\"\n",
    "        i_hor = 1\n",
    "        left_parameter = 0\n",
    "        right_parameter = block\n",
    "\n",
    "        while i_hor < w_blocks:\n",
    "            cropped_im = im.crop((left_parameter, top_parameter, right_parameter, bottom_parameter))\n",
    "            \n",
    "            cropped_im.save(\"{}/{}.jpg\".format(path, cropped_filename))\n",
    "            i_hor += 1\n",
    "            left_parameter += block\n",
    "            right_parameter += block\n",
    "            cropped_filename += 1\n",
    "        \n",
    "        i_ver += 1\n",
    "        top_parameter += block\n",
    "        bottom_parameter += block"
   ]
  },
  {
   "cell_type": "code",
   "execution_count": 107,
   "metadata": {},
   "outputs": [
    {
     "name": "stdout",
     "output_type": "stream",
     "text": [
      "['file1.jpg', 'file2.jpg', 'file3.jpg']\n"
     ]
    }
   ],
   "source": [
    "# folder path\n",
    "\n",
    "# list to store files\n",
    "file_list = []\n",
    "\n",
    "# Iterate directory\n",
    "for path in os.listdir(dir_from):\n",
    "    # check if current path is a file\n",
    "    if os.path.isfile(os.path.join(dir_from, path)):\n",
    "        file_list.append(path)\n",
    "print(file_list)"
   ]
  },
  {
   "cell_type": "code",
   "execution_count": 108,
   "metadata": {},
   "outputs": [],
   "source": [
    "for file in file_list:\n",
    "    #number of file in queue\n",
    "    image_name = file\n",
    "    Crop_image(os.path.join(dir_from, image_name), dir_to, 10)\n",
    "\n",
    "\n",
    "    "
   ]
  }
 ],
 "metadata": {
  "kernelspec": {
   "display_name": "Python 3",
   "language": "python",
   "name": "python3"
  },
  "language_info": {
   "codemirror_mode": {
    "name": "ipython",
    "version": 3
   },
   "file_extension": ".py",
   "mimetype": "text/x-python",
   "name": "python",
   "nbconvert_exporter": "python",
   "pygments_lexer": "ipython3",
   "version": "3.10.10"
  },
  "orig_nbformat": 4
 },
 "nbformat": 4,
 "nbformat_minor": 2
}
