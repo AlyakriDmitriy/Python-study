{
 "cells": [
  {
   "cell_type": "code",
   "execution_count": 92,
   "metadata": {},
   "outputs": [],
   "source": [
    "from PIL import Image\n",
    "import os\n",
    "import re\n",
    "import random"
   ]
  },
  {
   "cell_type": "code",
   "execution_count": 93,
   "metadata": {},
   "outputs": [],
   "source": [
    "dir_from = \"C:/practice/\"\n",
    "dir_to = \"C:/saveimages/\""
   ]
  },
  {
   "cell_type": "code",
   "execution_count": 94,
   "metadata": {},
   "outputs": [
    {
     "name": "stdout",
     "output_type": "stream",
     "text": [
      "file1\n"
     ]
    }
   ],
   "source": [
    "filename1 = \"C:/practice/file1.jpg\"\n",
    "\n",
    "print(re.match(r\"(.+?)\\..+\", os.path.basename(filename1)).group(1))"
   ]
  },
  {
   "cell_type": "code",
   "execution_count": 95,
   "metadata": {},
   "outputs": [],
   "source": [
    "def Crop_image(filename, new_file_direc, cropp_size):\n",
    "\n",
    "    #the first parameter of the function is filename (string)\n",
    "    #the second parameter of the function is final directory (string)\n",
    "    #the third parameter is how much do you want to crop (int)\n",
    "    im = Image.open(filename)\n",
    "\n",
    "    cropp = cropp_size\n",
    "    width, height = im.size\n",
    "    cropped_im = im.crop((cropp, cropp, width-cropp, height-cropp))\n",
    "\n",
    "\n",
    "    cropped_filename = re.match(r\"(.+?)\\..+\", os.path.basename(filename)).group(1)\n",
    "\n",
    "    path = \"{}/{}.jpg\".format(dir_to, cropped_filename)\n",
    "    rand_num = random.randrange(1, 100000000000000)\n",
    "    extra_path = \"{}/{}_{}.jpg\".format(new_file_direc, cropped_filename, str(rand_num))\n",
    "\n",
    "    check_file = os.path.isfile(path)\n",
    "\n",
    "    if check_file is False:\n",
    "        cropped_im.save(path)\n",
    "        print(\"the file is saved at \"+path)    \n",
    "    else:\n",
    "        cropped_im.save(extra_path)\n",
    "        extra_path_variable =+ 1\n",
    "        print(\"the file is saved at \"+extra_path)\n",
    "        \n",
    "\n",
    "\n",
    "\n",
    "\n",
    "    "
   ]
  },
  {
   "cell_type": "code",
   "execution_count": 96,
   "metadata": {},
   "outputs": [],
   "source": [
    "\n",
    "# list to store files\n",
    "file_list = []\n",
    "\n",
    "# Iterate directory\n",
    "for path in os.listdir(dir_from):\n",
    "    # check if current path is a file\n",
    "    if os.path.isfile(os.path.join(dir_from, path)):\n",
    "        file_list.append(path)\n",
    "        "
   ]
  },
  {
   "cell_type": "code",
   "execution_count": 97,
   "metadata": {},
   "outputs": [
    {
     "name": "stdout",
     "output_type": "stream",
     "text": [
      "the file is saved at C:/saveimages//file1_24151647988744.jpg\n",
      "the file is saved at C:/saveimages//file2_37437666991914.jpg\n",
      "the file is saved at C:/saveimages//file3_13502687959347.jpg\n"
     ]
    }
   ],
   "source": [
    "for file in file_list:\n",
    "    #number of file in queue\n",
    "    image_name = file\n",
    "    Crop_image(os.path.join(dir_from, image_name), dir_to, 10)\n",
    "\n",
    "\n",
    "    "
   ]
  }
 ],
 "metadata": {
  "kernelspec": {
   "display_name": "Python 3",
   "language": "python",
   "name": "python3"
  },
  "language_info": {
   "codemirror_mode": {
    "name": "ipython",
    "version": 3
   },
   "file_extension": ".py",
   "mimetype": "text/x-python",
   "name": "python",
   "nbconvert_exporter": "python",
   "pygments_lexer": "ipython3",
   "version": "3.10.10"
  },
  "orig_nbformat": 4
 },
 "nbformat": 4,
 "nbformat_minor": 2
}
