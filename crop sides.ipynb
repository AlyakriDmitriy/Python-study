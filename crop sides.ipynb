{
 "cells": [
  {
   "cell_type": "code",
   "execution_count": 130,
   "metadata": {},
   "outputs": [],
   "source": [
    "from PIL import Image\n",
    "import os\n",
    "import re"
   ]
  },
  {
   "cell_type": "code",
   "execution_count": 131,
   "metadata": {},
   "outputs": [],
   "source": [
    "dir_from = \"C:/practice/\"\n",
    "dir_to = \"C:/saveimages/\""
   ]
  },
  {
   "cell_type": "code",
   "execution_count": 132,
   "metadata": {},
   "outputs": [
    {
     "name": "stdout",
     "output_type": "stream",
     "text": [
      "file1\n"
     ]
    }
   ],
   "source": [
    "filename1 = \"C:/practice/file1.jpg\"\n",
    "\n",
    "print(re.match(r\"(.+?)\\..+\", os.path.basename(filename1)).group(1))"
   ]
  },
  {
   "cell_type": "code",
   "execution_count": 133,
   "metadata": {},
   "outputs": [],
   "source": [
    "def Crop_image(filename, new_file_direc, cropp_size):\n",
    "\n",
    "    #the first parameter of the function is filename (string)\n",
    "    #the second parameter of the function is final directory (string)\n",
    "    #the third parameter is how much do you want to crop (int)\n",
    "    im = Image.open(filename)\n",
    "\n",
    "    cropp = cropp_size\n",
    "    width, height = im.size\n",
    "\n",
    "    cropped_filename = re.match(r\"(.+?)\\..+\", os.path.basename(filename)).group(1)\n",
    "\n",
    "\n",
    "    cropped_im = im.crop((cropp, cropp, width-cropp, height-cropp))\n",
    "    cropped_im.save(\"{}/{}.jpg\".format(dir_to, cropped_filename))\n",
    "\n",
    "    "
   ]
  },
  {
   "cell_type": "code",
   "execution_count": 134,
   "metadata": {},
   "outputs": [
    {
     "name": "stdout",
     "output_type": "stream",
     "text": [
      "['file1.jpg', 'file2.jpg', 'file3.jpg']\n"
     ]
    }
   ],
   "source": [
    "\n",
    "# list to store files\n",
    "file_list = []\n",
    "\n",
    "# Iterate directory\n",
    "for path in os.listdir(dir_from):\n",
    "    # check if current path is a file\n",
    "    if os.path.isfile(os.path.join(dir_from, path)):\n",
    "        file_list.append(path)"
   ]
  },
  {
   "cell_type": "code",
   "execution_count": 135,
   "metadata": {},
   "outputs": [],
   "source": [
    "for file in file_list:\n",
    "    #number of file in queue\n",
    "    image_name = file\n",
    "    Crop_image(os.path.join(dir_from, image_name), dir_to, 10)\n",
    "\n",
    "\n",
    "    "
   ]
  },
  {
   "cell_type": "code",
   "execution_count": 136,
   "metadata": {},
   "outputs": [],
   "source": [
    "# creating a folder in final directory\n",
    "final_direc = re.findall(r\"(.+)\\.\", file_list[0])\n",
    "path = os.path.join(dir_to, final_direc[0])\n",
    "# Create the directory\n",
    "os.makedirs(path)"
   ]
  }
 ],
 "metadata": {
  "kernelspec": {
   "display_name": "Python 3",
   "language": "python",
   "name": "python3"
  },
  "language_info": {
   "codemirror_mode": {
    "name": "ipython",
    "version": 3
   },
   "file_extension": ".py",
   "mimetype": "text/x-python",
   "name": "python",
   "nbconvert_exporter": "python",
   "pygments_lexer": "ipython3",
   "version": "3.10.10"
  },
  "orig_nbformat": 4
 },
 "nbformat": 4,
 "nbformat_minor": 2
}
